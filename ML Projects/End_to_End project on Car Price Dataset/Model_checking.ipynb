{
 "cells": [
  {
   "cell_type": "code",
   "execution_count": 1,
   "id": "0dbbff95",
   "metadata": {},
   "outputs": [],
   "source": [
    "import pickle\n",
    "import pandas as pd\n",
    "import numpy as np"
   ]
  },
  {
   "cell_type": "code",
   "execution_count": 2,
   "id": "bc2ecc9f",
   "metadata": {},
   "outputs": [],
   "source": [
    "wheelbase = 88.6\n",
    "carlength = 168.8\n",
    "carwidth = 64.1\n",
    "carheight = 48.8\n",
    "curbweight = 2548\n",
    "enginesize = 130\n",
    "boreratio = 3.47\n",
    "stroke = 2.68\n",
    "compressionratio = 9.0\n",
    "horsepower = 111\n",
    "peakrpm = 5000\n",
    "citympg = 21\n",
    "highwaympg = 27 "
   ]
  },
  {
   "cell_type": "code",
   "execution_count": 3,
   "id": "2fc2a034",
   "metadata": {},
   "outputs": [],
   "source": [
    "X = np.array([[wheelbase,carlength,carwidth,carheight,curbweight,enginesize,boreratio,stroke,compressionratio,horsepower,peakrpm,citympg,highwaympg]])"
   ]
  },
  {
   "cell_type": "code",
   "execution_count": 4,
   "id": "dee930d6",
   "metadata": {},
   "outputs": [],
   "source": [
    "model = pickle.load(open(\"model.pkl\", \"rb\"))"
   ]
  },
  {
   "cell_type": "code",
   "execution_count": 5,
   "id": "3eb89006",
   "metadata": {},
   "outputs": [],
   "source": [
    "Y_prediction = model.predict(X)"
   ]
  },
  {
   "cell_type": "code",
   "execution_count": null,
   "id": "ffcbbf40",
   "metadata": {},
   "outputs": [],
   "source": [
    "Y_prediction"
   ]
  }
 ],
 "metadata": {
  "kernelspec": {
   "display_name": "Python 3 (ipykernel)",
   "language": "python",
   "name": "python3"
  },
  "language_info": {
   "codemirror_mode": {
    "name": "ipython",
    "version": 3
   },
   "file_extension": ".py",
   "mimetype": "text/x-python",
   "name": "python",
   "nbconvert_exporter": "python",
   "pygments_lexer": "ipython3",
   "version": "3.9.7"
  }
 },
 "nbformat": 4,
 "nbformat_minor": 5
}
