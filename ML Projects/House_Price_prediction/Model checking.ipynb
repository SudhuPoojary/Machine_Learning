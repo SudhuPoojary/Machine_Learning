{
 "cells": [
  {
   "cell_type": "code",
   "execution_count": 4,
   "id": "8f680361",
   "metadata": {},
   "outputs": [],
   "source": [
    "import pickle\n",
    "import numpy as np\n",
    "import pandas as pd"
   ]
  },
  {
   "cell_type": "code",
   "execution_count": 17,
   "id": "d3c46318",
   "metadata": {},
   "outputs": [],
   "source": [
    "bedrooms = 3\n",
    "bathrooms = 1.5\n",
    "sqft_living = 1340\n",
    "sqft_lot = 7912\n",
    "floors = 1.5\n",
    "waterfront = 0\n",
    "view = 0\n",
    "condition = 3 \n",
    "sqft_above = 1340\n",
    "sqft_basement = 0\n",
    "yr_built = 1955\n",
    "yr_renovated = 2005"
   ]
  },
  {
   "cell_type": "code",
   "execution_count": 18,
   "id": "c33c5a22",
   "metadata": {},
   "outputs": [],
   "source": [
    "X = np.array([[bedrooms,bathrooms,sqft_living,sqft_lot,floors,waterfront,view,condition,sqft_above,sqft_basement,yr_built,yr_renovated]])"
   ]
  },
  {
   "cell_type": "code",
   "execution_count": 19,
   "id": "fcf95dba",
   "metadata": {},
   "outputs": [],
   "source": [
    "model = pickle.load(open(\"model.pkl\", \"rb\"))"
   ]
  },
  {
   "cell_type": "code",
   "execution_count": 20,
   "id": "cba955e3",
   "metadata": {},
   "outputs": [],
   "source": [
    "Y_prediction = model.predict(X)"
   ]
  },
  {
   "cell_type": "code",
   "execution_count": 16,
   "id": "d41d7771",
   "metadata": {},
   "outputs": [
    {
     "data": {
      "text/plain": [
       "array([[361375.27500672]])"
      ]
     },
     "execution_count": 16,
     "metadata": {},
     "output_type": "execute_result"
    }
   ],
   "source": [
    "Y_prediction"
   ]
  },
  {
   "cell_type": "code",
   "execution_count": null,
   "id": "0e451f5d",
   "metadata": {},
   "outputs": [],
   "source": []
  }
 ],
 "metadata": {
  "kernelspec": {
   "display_name": "Python 3 (ipykernel)",
   "language": "python",
   "name": "python3"
  },
  "language_info": {
   "codemirror_mode": {
    "name": "ipython",
    "version": 3
   },
   "file_extension": ".py",
   "mimetype": "text/x-python",
   "name": "python",
   "nbconvert_exporter": "python",
   "pygments_lexer": "ipython3",
   "version": "3.9.7"
  }
 },
 "nbformat": 4,
 "nbformat_minor": 5
}
